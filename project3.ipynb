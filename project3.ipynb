{
  "cells": [
    {
      "cell_type": "code",
      "execution_count": 1,
      "metadata": {},
      "outputs": [],
      "source": [
        "import requests\n",
        "import pandas as pd\n",
        "import numpy as np\n",
        "from matplotlib import pyplot as plt\n",
        "import seaborn as sns\n",
        "from scipy import stats\n",
        "\n",
        "\n",
        "with open(\"api_key.txt\",\"r\") as api_key_file:\n",
        "    api_key = api_key_file.readline()\n"
      ]
    },
    {
      "cell_type": "markdown",
      "metadata": {},
      "source": [
        "## Create DataFrame for the Top Rated Movies\n",
        "\n",
        "Only really interested in getting the IDs for each movie"
      ]
    },
    {
      "cell_type": "code",
      "execution_count": null,
      "metadata": {},
      "outputs": [],
      "source": [
        "list_of_top_movies = []\n",
        "\n",
        "for page_num in range(1, 21):\n",
        "    url = f\"https://api.themoviedb.org/3/movie/top_rated?api_key={api_key}&page={page_num}\"\n",
        "\n",
        "    headers = {\"accept\": \"application/json\"}\n",
        "\n",
        "    response = requests.get(url, headers=headers)\n",
        "    json_response = response.json()\n",
        "\n",
        "    for movie in json_response['results']:\n",
        "        list_of_top_movies.append(movie)\n",
        "\n",
        "top_movies = pd.DataFrame(list_of_top_movies)\n",
        "top_movies"
      ]
    },
    {
      "cell_type": "markdown",
      "metadata": {},
      "source": [
        "## Create DataFrame for the top rated movies with all detailed info"
      ]
    },
    {
      "cell_type": "code",
      "execution_count": null,
      "metadata": {},
      "outputs": [],
      "source": [
        "list_of_detailed_movies = []\n",
        "\n",
        "for index, row in top_movies.iterrows():\n",
        "    id = row['id']\n",
        "\n",
        "    url = f\"https://api.themoviedb.org/3/movie/{id}?api_key={api_key}\"\n",
        "\n",
        "    headers = {\n",
        "        \"accept\": \"application/json\",\n",
        "    }\n",
        "\n",
        "    response = requests.get(url, headers=headers)\n",
        "    json_response = response.json()\n",
        "    list_of_detailed_movies.append(json_response)\n",
        "\n",
        "movies_detailed = pd.DataFrame(list_of_detailed_movies)\n",
        "\n",
        "movies_detailed"
      ]
    },
    {
      "cell_type": "markdown",
      "metadata": {},
      "source": [
        "## Runtime vs Rating"
      ]
    },
    {
      "cell_type": "code",
      "execution_count": null,
      "metadata": {},
      "outputs": [],
      "source": [
        "# Filter out movies with runtime less than 60 and make a copy\n",
        "movies_filtered = movies_detailed[movies_detailed['runtime'] >= 60].copy()\n",
        "\n",
        "movies_filtered['runtime'] = movies_filtered['runtime'].astype(int)\n",
        "movies_filtered['vote_average'] = movies_filtered['vote_average'].astype(float)\n",
        "\n",
        "sns.set_theme()\n",
        "ax = sns.regplot(x='runtime', y='vote_average', data=movies_filtered, ci=None)\n",
        "ax.set_title('Runtime vs Vote Average')\n",
        "\n",
        "print('length: ' + str(len(movies_filtered)))\n",
        "print( 'std: ' + str(np.std(movies_filtered.runtime)))\n",
        "print('average runtime: ' + str(movies_filtered['runtime'].mean()))\n",
        "display(stats.pearsonr(movies_filtered.runtime, movies_filtered.vote_average))\n",
        "display(ax)\n"
      ]
    },
    {
      "cell_type": "markdown",
      "metadata": {},
      "source": [
        "## Revenue vs Rating"
      ]
    },
    {
      "cell_type": "code",
      "execution_count": null,
      "metadata": {},
      "outputs": [],
      "source": [
        "# look at adding new attribute that is normailzing budget and revenue | percent of revenue : ((revennue - budget) / budget) * 100\n",
        "movies_filtered['budget'] = movies_filtered['budget'].astype(int)\n",
        "movies_revenue = movies_filtered[(movies_filtered['budget'] != 0) & (movies_filtered['revenue'] != 0)].copy() # removing value over 6000 that is swaying p-value\n",
        "movies_revenue['percent_of_revenue'] = ((movies_revenue['revenue'] - movies_revenue['budget']) / movies_revenue['budget']) * 100\n",
        "movies_revenue = movies_revenue[movies_revenue['percent_of_revenue'] < 6000]\n",
        "#movies_revenue = movies_revenue.dropna()\n",
        "ax = sns.regplot(x='vote_average', y='percent_of_revenue', data=movies_revenue, ci=None)\n",
        "ax.set_title(\"Revenue vs Rating\")\n",
        "display(stats.pearsonr(movies_revenue.percent_of_revenue, movies_revenue.vote_average))\n",
        "display(ax)"
      ]
    },
    {
      "cell_type": "markdown",
      "metadata": {},
      "source": [
        "Cleaning out unwanted columns from detailed movie dataframe a bit"
      ]
    },
    {
      "cell_type": "code",
      "execution_count": null,
      "metadata": {},
      "outputs": [],
      "source": [
        "movies = movies_detailed[['budget', 'id', 'origin_country', 'original_language', 'popularity','release_date', 'revenue', 'runtime', 'title', 'vote_average', 'vote_count']]\n",
        "\n",
        "movies['release_date'] = pd.to_datetime(movies['release_date'])\n",
        "\n",
        "movies['release_year'] = movies['release_date'].dt.year\n",
        "movies['release_month'] = movies['release_date'].dt.month\n",
        "\n",
        "movies = movies[movies['revenue'] > 0]\n",
        "\n",
        "display(movies)"
      ]
    },
    {
      "cell_type": "markdown",
      "metadata": {},
      "source": [
        "# Number of Released Movies by Month and Mean Revenue by Month Released"
      ]
    },
    {
      "cell_type": "code",
      "execution_count": null,
      "metadata": {},
      "outputs": [],
      "source": [
        "data = movies.groupby(['release_month']).agg({'revenue' : ['sum', 'mean'], 'release_month' : ['count']}).reset_index()\n",
        "\n",
        "data.columns = ['release_month', 'revenue_sum', 'revenue_mean', 'count']\n",
        "display(data)\n",
        "\n",
        "fig, axes = plt.subplots(1, 2, figsize=(12, 6))\n",
        "sns.barplot(ax=axes[0], data=data, x='release_month', y='count')\n",
        "\n",
        "sns.barplot(ax=axes[1], data=data, x='release_month', y='revenue_mean', color='green')\n",
        "\n",
        "# sns.barplot(ax=axes[2], data=data, x='release_month', y='revenue_sum')\n"
      ]
    },
    {
      "cell_type": "markdown",
      "metadata": {},
      "source": [
        "# Popular Movie Average Ratings"
      ]
    },
    {
      "cell_type": "code",
      "execution_count": null,
      "metadata": {},
      "outputs": [],
      "source": [
        "list_of_popular_movies = []\n",
        "\n",
        "for page_num in range(1, 21):\n",
        "    url = f\"https://api.themoviedb.org/3/movie/popular?api_key={api_key}&page={page_num}\"\n",
        "\n",
        "    headers = {\"accept\": \"application/json\"}\n",
        "\n",
        "    response = requests.get(url, headers=headers)\n",
        "    json_response = response.json()\n",
        "\n",
        "    for movie in json_response['results']:\n",
        "        list_of_popular_movies.append(movie)\n",
        "\n",
        "popular_movies = pd.DataFrame(list_of_popular_movies)\n",
        "popular_movies = popular_movies[popular_movies['vote_count'] > 10]\n",
        "popular_movies"
      ]
    },
    {
      "cell_type": "code",
      "execution_count": null,
      "metadata": {},
      "outputs": [],
      "source": [
        "sns.displot(data=popular_movies, x=\"vote_average\")"
      ]
    }
  ],
  "metadata": {
    "kernelspec": {
      "display_name": "Python 3",
      "language": "python",
      "name": "python3"
    },
    "language_info": {
      "codemirror_mode": {
        "name": "ipython",
        "version": 3
      },
      "file_extension": ".py",
      "mimetype": "text/x-python",
      "name": "python",
      "nbconvert_exporter": "python",
      "pygments_lexer": "ipython3",
      "version": "3.12.0"
    }
  },
  "nbformat": 4,
  "nbformat_minor": 2
}
