{
 "cells": [
  {
   "cell_type": "code",
   "execution_count": null,
   "metadata": {},
   "outputs": [],
   "source": [
    "import requests\n",
    "import json\n",
    "\n",
    "with open(\"api_key.txt\",\"r\") as api_key_file:\n",
    "    api_key = api_key_file.readline()\n",
    "\n",
    "url = f\"https://api.themoviedb.org/3/movie/top_rated?api_key={api_key}\"\n",
    "#url = f\"https://api.themoviedb.org/3/movie/278?api_key={api_key}\"\n",
    "\n",
    "headers = {\"accept\": \"application/json\"}\n",
    "\n",
    "response = requests.get(url, headers=headers)\n",
    "\n",
    "print(response.text)\n",
    "json_data = json.loads(response.text)\n",
    "#print(json_data[\"results\"])\n",
    "lst_of_movies = json_data[\"results\"]\n",
    "\n",
    "    \n",
    "\n"
   ]
  },
  {
   "cell_type": "code",
   "execution_count": null,
   "metadata": {},
   "outputs": [],
   "source": [
    "lst_of_movie_details = []\n",
    "for item in lst_of_movies:\n",
    "    url = f\"https://api.themoviedb.org/3/movie/{item}?api_key={api_key}\"\n",
    "    headers = {\"accept\": \"application/json\"}\n",
    "    response = requests.get(url, headers=headers)\n",
    "    json_data = json.loads(response.text)\n",
    "    lst_of_movie_details.append(json.loads(response.text))\n",
    "\n",
    "print(lst_of_movie_details)\n"
   ]
  },
  {
   "cell_type": "markdown",
   "metadata": {},
   "source": [
    "## Create Dataframe"
   ]
  },
  {
   "cell_type": "code",
   "execution_count": null,
   "metadata": {},
   "outputs": [],
   "source": [
    "import pandas as pd\n",
    "import numpy as np\n",
    "from matplotlib import pyplot as plt\n",
    "import seaborn as sns\n",
    "from scipy import stats\n",
    "\n",
    "movies_df = pd.DataFrame(lst_of_movie_details, index=[i[\"id\"] for i in lst_of_movie_details])\n",
    "movies_df\n",
    "ax = sns.regplot(x='runtime', y='budget', data=movies_df, ci=None)\n",
    "ax.set_title(\"Budget vs Runtime\")\n",
    "display(ax)"
   ]
  },
  {
   "cell_type": "code",
   "execution_count": null,
   "metadata": {},
   "outputs": [],
   "source": [
    "# it might be interseting to look at a different table for this becuase this is the top movies maybe get a list form 2023?\n",
    "ax = sns.regplot(x='budget', y='revenue', data=movies_df, ci=None)\n",
    "ax.set_title(\"Budget vs Revenue\")\n",
    "display(ax)"
   ]
  },
  {
   "cell_type": "markdown",
   "metadata": {},
   "source": [
    "## Create DataFrame for the Top Rated Movies\n",
    "\n",
    "Only really interested in getting the IDs for each movie"
   ]
  },
  {
   "cell_type": "code",
   "execution_count": null,
   "metadata": {},
   "outputs": [],
   "source": [
    "list_of_top_movies = []\n",
    "\n",
    "for page_num in range(1, 10):\n",
    "    url = f\"https://api.themoviedb.org/3/movie/top_rated?api_key={api_key}&page={page_num}\"\n",
    "\n",
    "    headers = {\"accept\": \"application/json\"}\n",
    "\n",
    "    response = requests.get(url, headers=headers)\n",
    "    json_response = response.json()\n",
    "\n",
    "    for movie in json_response['results']:\n",
    "        list_of_top_movies.append(movie)\n",
    "\n",
    "top_movies = pd.DataFrame(list_of_top_movies)\n",
    "top_movies"
   ]
  },
  {
   "cell_type": "markdown",
   "metadata": {},
   "source": [
    "## Create DataFrame for the top rated movies with all detailed info"
   ]
  },
  {
   "cell_type": "code",
   "execution_count": null,
   "metadata": {},
   "outputs": [],
   "source": [
    "list_of_detailed_movies = []\n",
    "\n",
    "for index, row in top_movies.iterrows():\n",
    "    id = row['id']\n",
    "\n",
    "    url = f\"https://api.themoviedb.org/3/movie/{id}?api_key={api_key}\"\n",
    "\n",
    "    headers = {\n",
    "        \"accept\": \"application/json\",\n",
    "    }\n",
    "\n",
    "    response = requests.get(url, headers=headers)\n",
    "    json_response = response.json()\n",
    "    list_of_detailed_movies.append(json_response)\n",
    "\n",
    "movies_detailed = pd.DataFrame(list_of_detailed_movies)\n",
    "\n",
    "movies_detailed"
   ]
  }
 ],
 "metadata": {
  "kernelspec": {
   "display_name": "Python 3",
   "language": "python",
   "name": "python3"
  },
  "language_info": {
   "codemirror_mode": {
    "name": "ipython",
    "version": 3
   },
   "file_extension": ".py",
   "mimetype": "text/x-python",
   "name": "python",
   "nbconvert_exporter": "python",
   "pygments_lexer": "ipython3",
   "version": "3.12.1"
  }
 },
 "nbformat": 4,
 "nbformat_minor": 2
}
